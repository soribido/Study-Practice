{
 "cells": [
  {
   "cell_type": "code",
   "execution_count": 2,
   "id": "321ca6ab-2bd3-44c5-a6df-c84d084f8198",
   "metadata": {},
   "outputs": [],
   "source": [
    "import warnings\n",
    "warnings.filterwarnings(\"ignore\", category=DeprecationWarning)\n",
    "%config Completer.use_jedi = False"
   ]
  },
  {
   "cell_type": "code",
   "execution_count": 3,
   "id": "407fed06-be33-4777-ba23-516ad501adca",
   "metadata": {},
   "outputs": [
    {
     "name": "stderr",
     "output_type": "stream",
     "text": [
      "/usr/local/lib/python3.8/dist-packages/keras_preprocessing/image/utils.py:23: DeprecationWarning: NEAREST is deprecated and will be removed in Pillow 10 (2023-07-01). Use Resampling.NEAREST or Dither.NONE instead.\n",
      "  'nearest': pil_image.NEAREST,\n",
      "/usr/local/lib/python3.8/dist-packages/keras_preprocessing/image/utils.py:24: DeprecationWarning: BILINEAR is deprecated and will be removed in Pillow 10 (2023-07-01). Use Resampling.BILINEAR instead.\n",
      "  'bilinear': pil_image.BILINEAR,\n",
      "/usr/local/lib/python3.8/dist-packages/keras_preprocessing/image/utils.py:25: DeprecationWarning: BICUBIC is deprecated and will be removed in Pillow 10 (2023-07-01). Use Resampling.BICUBIC instead.\n",
      "  'bicubic': pil_image.BICUBIC,\n",
      "/usr/local/lib/python3.8/dist-packages/keras_preprocessing/image/utils.py:28: DeprecationWarning: HAMMING is deprecated and will be removed in Pillow 10 (2023-07-01). Use Resampling.HAMMING instead.\n",
      "  if hasattr(pil_image, 'HAMMING'):\n",
      "/usr/local/lib/python3.8/dist-packages/keras_preprocessing/image/utils.py:30: DeprecationWarning: BOX is deprecated and will be removed in Pillow 10 (2023-07-01). Use Resampling.BOX instead.\n",
      "  if hasattr(pil_image, 'BOX'):\n",
      "/usr/local/lib/python3.8/dist-packages/keras_preprocessing/image/utils.py:33: DeprecationWarning: LANCZOS is deprecated and will be removed in Pillow 10 (2023-07-01). Use Resampling.LANCZOS instead.\n",
      "  if hasattr(pil_image, 'LANCZOS'):\n",
      "/home/kang/.local/lib/python3.8/site-packages/gym/core.py:329: DeprecationWarning: \u001b[33mWARN: Initializing wrapper in old step API which returns one bool instead of two. It is recommended to set `new_step_api=True` to use new step API. This will be the default behaviour in future.\u001b[0m\n",
      "  deprecation(\n",
      "/home/kang/.local/lib/python3.8/site-packages/gym/wrappers/step_api_compatibility.py:39: DeprecationWarning: \u001b[33mWARN: Initializing environment in old step API which returns one bool instead of two. It is recommended to set `new_step_api=True` to use new step API. This will be the default behaviour in future.\u001b[0m\n",
      "  deprecation(\n"
     ]
    }
   ],
   "source": [
    "import collections\n",
    "import gym\n",
    "import numpy as np\n",
    "import tensorflow as tf\n",
    "import tqdm\n",
    "import os\n",
    "\n",
    "from matplotlib import pyplot as plt\n",
    "from tensorflow.keras import layers\n",
    "from typing import Any, List, Sequence, Tuple\n",
    "\n",
    "%matplotlib inline\n",
    "from IPython import display\n",
    "\n",
    "# Create the environment\n",
    "# env = gym.make(\"CartPole-v1\", new_step_api=True)\n",
    "env = gym.make(\"CartPole-v1\")\n",
    "\n",
    "# Set seed for experiment reproducibility\n",
    "seed = 42\n",
    "env.reset(seed=seed)\n",
    "tf.random.set_seed(seed)\n",
    "np.random.seed(seed)\n",
    "\n",
    "# Small epsilon value for stabilizing division operations\n",
    "eps = np.finfo(np.float32).eps.item()"
   ]
  },
  {
   "cell_type": "markdown",
   "id": "277b115a-f551-4c07-8168-96351eb6ef3b",
   "metadata": {},
   "source": [
    "https://www.tensorflow.org/tutorials/reinforcement_learning/actor_critic?hl=ko"
   ]
  },
  {
   "cell_type": "code",
   "execution_count": 4,
   "id": "7b1b13e1-88fc-46f4-8ca7-2d093ae0ce11",
   "metadata": {},
   "outputs": [
    {
     "name": "stdout",
     "output_type": "stream",
     "text": [
      "1 Physical GPUs, 1 Logical GPUs\n"
     ]
    }
   ],
   "source": [
    "import os\n",
    "# GPU and memory\n",
    "os.environ[\"CUDA_DEVICE_ORDER\"]=\"PCI_BUS_ID\"\n",
    "\n",
    "# 내가 사용할 GPU번호(0,1,2,3)\n",
    "os.environ[\"CUDA_VISIBLE_DEVICES\"]=\"2\"\n",
    "\n",
    "gpus = tf.config.experimental.list_physical_devices('GPU')\n",
    "if gpus: \n",
    "    try: # Currently, memory growth needs to be the same across GPUs\n",
    "        for gpu in gpus: \n",
    "            tf.config.experimental.set_memory_growth(gpu, True)\n",
    "             \n",
    "        logical_gpus = tf.config.experimental.list_logical_devices('GPU') \n",
    "        print(len(gpus), \"Physical GPUs,\", len(logical_gpus), \"Logical GPUs\") \n",
    "    \n",
    "    except RuntimeError as e: # Memory growth must be set before GPUs have been initialized \n",
    "        print(e)"
   ]
  },
  {
   "cell_type": "code",
   "execution_count": 5,
   "id": "32d2804b-9b00-4be4-b844-a337580021d7",
   "metadata": {},
   "outputs": [],
   "source": [
    "class ActorCritic(tf.keras.Model):\n",
    "  \"\"\"Combined actor-critic network.\"\"\"\n",
    "\n",
    "  def __init__(\n",
    "      self, \n",
    "      num_actions: int, \n",
    "      num_hidden_units: int):\n",
    "    \"\"\"Initialize.\"\"\"\n",
    "    super().__init__()\n",
    "\n",
    "    self.common = layers.Dense(num_hidden_units, activation=\"relu\")\n",
    "    self.actor = layers.Dense(num_actions)\n",
    "    self.critic = layers.Dense(1)\n",
    "\n",
    "  def call(self, inputs: tf.Tensor) -> Tuple[tf.Tensor, tf.Tensor]:\n",
    "    x = self.common(inputs)\n",
    "    return self.actor(x), self.critic(x)"
   ]
  },
  {
   "cell_type": "code",
   "execution_count": 6,
   "id": "ef3b4da9-74ec-4e60-9210-be9f5785751c",
   "metadata": {},
   "outputs": [],
   "source": [
    "num_actions = env.action_space.n  # 2\n",
    "num_hidden_units = 128\n",
    "\n",
    "model = ActorCritic(num_actions, num_hidden_units)"
   ]
  },
  {
   "cell_type": "code",
   "execution_count": 7,
   "id": "f19a3b00-bfbc-40fc-8872-59ad51ee3d70",
   "metadata": {},
   "outputs": [],
   "source": [
    "# Wrap OpenAI Gym's `env.step` call as an operation in a TensorFlow function.\n",
    "# This would allow it to be included in a callable TensorFlow graph.\n",
    "\n",
    "def env_step(action: np.ndarray) -> Tuple[np.ndarray, np.ndarray, np.ndarray]:\n",
    "  \"\"\"Returns state, reward and done flag given an action.\"\"\"\n",
    "\n",
    "  state, reward, done, _ = env.step(action)\n",
    "  return (state.astype(np.float32), \n",
    "          np.array(reward, np.int32), \n",
    "          np.array(done, np.int32))\n",
    "\n",
    "\n",
    "def tf_env_step(action: tf.Tensor) -> List[tf.Tensor]:\n",
    "  return tf.numpy_function(env_step, [action], \n",
    "                           [tf.float32, tf.int32, tf.int32])"
   ]
  },
  {
   "cell_type": "code",
   "execution_count": 8,
   "id": "465659a0-8c25-426b-b894-a6f919665209",
   "metadata": {},
   "outputs": [],
   "source": [
    "def run_episode(\n",
    "    initial_state: tf.Tensor,  \n",
    "    model: tf.keras.Model, \n",
    "    max_steps: int) -> List[tf.Tensor]:\n",
    "  \"\"\"Runs a single episode to collect training data.\"\"\"\n",
    "\n",
    "  action_probs = tf.TensorArray(dtype=tf.float32, size=0, dynamic_size=True)\n",
    "  values = tf.TensorArray(dtype=tf.float32, size=0, dynamic_size=True)\n",
    "  rewards = tf.TensorArray(dtype=tf.int32, size=0, dynamic_size=True)\n",
    "\n",
    "  initial_state_shape = initial_state.shape\n",
    "  state = initial_state\n",
    "\n",
    "  for t in tf.range(max_steps):\n",
    "    # Convert state into a batched tensor (batch size = 1)\n",
    "    state = tf.expand_dims(state, 0)\n",
    "\n",
    "    # Run the model and to get action probabilities and critic value\n",
    "    action_logits_t, value = model(state)\n",
    "\n",
    "    # Sample next action from the action probability distribution\n",
    "    action = tf.random.categorical(action_logits_t, 1)[0, 0]\n",
    "    action_probs_t = tf.nn.softmax(action_logits_t)\n",
    "\n",
    "    # Store critic values\n",
    "    values = values.write(t, tf.squeeze(value))\n",
    "\n",
    "    # Store log probability of the action chosen\n",
    "    action_probs = action_probs.write(t, action_probs_t[0, action])\n",
    "\n",
    "    # Apply action to the environment to get next state and reward\n",
    "    state, reward, done = tf_env_step(action)\n",
    "    state.set_shape(initial_state_shape)\n",
    "\n",
    "    # Store reward\n",
    "    rewards = rewards.write(t, reward)\n",
    "\n",
    "    if tf.cast(done, tf.bool):\n",
    "      break\n",
    "\n",
    "  action_probs = action_probs.stack()\n",
    "  values = values.stack()\n",
    "  rewards = rewards.stack()\n",
    "\n",
    "  return action_probs, values, rewards"
   ]
  },
  {
   "cell_type": "code",
   "execution_count": 9,
   "id": "20bc4cd3-e138-45ac-95bd-865977cd5dd9",
   "metadata": {},
   "outputs": [],
   "source": [
    "def get_expected_return(\n",
    "    rewards: tf.Tensor, \n",
    "    gamma: float, \n",
    "    standardize: bool = True) -> tf.Tensor:\n",
    "  \"\"\"Compute expected returns per timestep.\"\"\"\n",
    "\n",
    "  n = tf.shape(rewards)[0]\n",
    "  returns = tf.TensorArray(dtype=tf.float32, size=n)\n",
    "\n",
    "  # Start from the end of `rewards` and accumulate reward sums\n",
    "  # into the `returns` array\n",
    "  rewards = tf.cast(rewards[::-1], dtype=tf.float32)\n",
    "  discounted_sum = tf.constant(0.0)\n",
    "  discounted_sum_shape = discounted_sum.shape\n",
    "  for i in tf.range(n):\n",
    "    reward = rewards[i]\n",
    "    discounted_sum = reward + gamma * discounted_sum\n",
    "    discounted_sum.set_shape(discounted_sum_shape)\n",
    "    returns = returns.write(i, discounted_sum)\n",
    "  returns = returns.stack()[::-1]\n",
    "\n",
    "  if standardize:\n",
    "    returns = ((returns - tf.math.reduce_mean(returns)) / \n",
    "               (tf.math.reduce_std(returns) + eps))\n",
    "\n",
    "  return returns"
   ]
  },
  {
   "cell_type": "code",
   "execution_count": 10,
   "id": "a6259c67-6494-452d-bab8-e19d33502eda",
   "metadata": {},
   "outputs": [],
   "source": [
    "huber_loss = tf.keras.losses.Huber(reduction=tf.keras.losses.Reduction.SUM)\n",
    "\n",
    "def compute_loss(\n",
    "    action_probs: tf.Tensor,  \n",
    "    values: tf.Tensor,  \n",
    "    returns: tf.Tensor) -> tf.Tensor:\n",
    "  \"\"\"Computes the combined actor-critic loss.\"\"\"\n",
    "\n",
    "  advantage = returns - values\n",
    "\n",
    "  action_log_probs = tf.math.log(action_probs)\n",
    "  actor_loss = -tf.math.reduce_sum(action_log_probs * advantage)\n",
    "\n",
    "  critic_loss = huber_loss(values, returns)\n",
    "\n",
    "  return actor_loss + critic_loss"
   ]
  },
  {
   "cell_type": "code",
   "execution_count": 11,
   "id": "8714f35d-35f2-424e-839a-cd09048e12df",
   "metadata": {},
   "outputs": [],
   "source": [
    "optimizer = tf.keras.optimizers.Adam(learning_rate=0.01)\n",
    "\n",
    "\n",
    "@tf.function\n",
    "def train_step(\n",
    "    initial_state: tf.Tensor, \n",
    "    model: tf.keras.Model, \n",
    "    optimizer: tf.keras.optimizers.Optimizer, \n",
    "    gamma: float, \n",
    "    max_steps_per_episode: int) -> tf.Tensor:\n",
    "  \"\"\"Runs a model training step.\"\"\"\n",
    "\n",
    "  with tf.GradientTape() as tape:\n",
    "\n",
    "    # Run the model for one episode to collect training data\n",
    "    action_probs, values, rewards = run_episode(\n",
    "        initial_state, model, max_steps_per_episode) \n",
    "\n",
    "    # Calculate expected returns\n",
    "    returns = get_expected_return(rewards, gamma)\n",
    "\n",
    "    # Convert training data to appropriate TF tensor shapes\n",
    "    action_probs, values, returns = [\n",
    "        tf.expand_dims(x, 1) for x in [action_probs, values, returns]] \n",
    "\n",
    "    # Calculating loss values to update our network\n",
    "    loss = compute_loss(action_probs, values, returns)\n",
    "\n",
    "  # Compute the gradients from the loss\n",
    "  grads = tape.gradient(loss, model.trainable_variables)\n",
    "\n",
    "  # Apply the gradients to the model's parameters\n",
    "  optimizer.apply_gradients(zip(grads, model.trainable_variables))\n",
    "\n",
    "  episode_reward = tf.math.reduce_sum(rewards)\n",
    "\n",
    "  return episode_reward"
   ]
  },
  {
   "cell_type": "code",
   "execution_count": 12,
   "id": "4536bd58-c325-487a-914f-3946e5fc78b8",
   "metadata": {},
   "outputs": [
    {
     "name": "stderr",
     "output_type": "stream",
     "text": [
      "Episode 468:   5%|▍         | 468/10000 [01:41<34:17,  4.63it/s, episode_reward=393, running_reward=196]   "
     ]
    },
    {
     "name": "stdout",
     "output_type": "stream",
     "text": [
      "\n",
      "Solved at episode 468: average reward: 195.84!\n",
      "CPU times: user 3min 48s, sys: 27.4 s, total: 4min 15s\n",
      "Wall time: 1min 41s\n"
     ]
    },
    {
     "name": "stderr",
     "output_type": "stream",
     "text": [
      "\n"
     ]
    }
   ],
   "source": [
    "%%time\n",
    "\n",
    "max_episodes = 10000\n",
    "max_steps_per_episode = 1000\n",
    "\n",
    "# Cartpole-v0 is considered solved if average reward is >= 195 over 100 \n",
    "# consecutive trials\n",
    "reward_threshold = 195\n",
    "running_reward = 0\n",
    "\n",
    "# Discount factor for future rewards\n",
    "gamma = 0.99\n",
    "\n",
    "with tqdm.trange(max_episodes) as t:\n",
    "  for i in t:\n",
    "    initial_state = tf.constant(env.reset(), dtype=tf.float32)\n",
    "    episode_reward = int(train_step(\n",
    "        initial_state, model, optimizer, gamma, max_steps_per_episode))\n",
    "\n",
    "    running_reward = episode_reward*0.01 + running_reward*.99\n",
    "\n",
    "    t.set_description(f'Episode {i}')\n",
    "    t.set_postfix(\n",
    "        episode_reward=episode_reward, running_reward=running_reward)\n",
    "\n",
    "    # Show average episode reward every 10 episodes\n",
    "    if i % 10 == 0:\n",
    "      pass # print(f'Episode {i}: average reward: {avg_reward}')\n",
    "\n",
    "    if running_reward > reward_threshold:  \n",
    "        break\n",
    "\n",
    "print(f'\\nSolved at episode {i}: average reward: {running_reward:.2f}!')"
   ]
  },
  {
   "cell_type": "code",
   "execution_count": 14,
   "id": "4bea2aab-829f-4213-b08d-35c2c9d58cac",
   "metadata": {},
   "outputs": [],
   "source": [
    "from pyvirtualdisplay import Display"
   ]
  },
  {
   "cell_type": "code",
   "execution_count": 15,
   "id": "a7e2071d-29f3-474e-9283-7af9758f5269",
   "metadata": {},
   "outputs": [
    {
     "name": "stderr",
     "output_type": "stream",
     "text": [
      "/home/kang/.local/lib/python3.8/site-packages/gym/core.py:51: DeprecationWarning: \u001b[33mWARN: The argument mode in render method is deprecated; use render_mode during environment initialization instead.\n",
      "See here for more information: https://www.gymlibrary.ml/content/api/\u001b[0m\n",
      "  deprecation(\n"
     ]
    }
   ],
   "source": [
    "# Render an episode and save as a GIF file\n",
    "\n",
    "from IPython import display as ipythondisplay\n",
    "from PIL import Image\n",
    "from pyvirtualdisplay import Display\n",
    "\n",
    "\n",
    "display = Display(visible=0, size=(400, 300))\n",
    "display.start()\n",
    "\n",
    "\n",
    "def render_episode(env: gym.Env, model: tf.keras.Model, max_steps: int): \n",
    "  screen = env.render(mode='rgb_array')\n",
    "  im = Image.fromarray(screen)\n",
    "\n",
    "  images = [im]\n",
    "\n",
    "  state = tf.constant(env.reset(), dtype=tf.float32)\n",
    "  for i in range(1, max_steps + 1):\n",
    "    state = tf.expand_dims(state, 0)\n",
    "    action_probs, _ = model(state)\n",
    "    action = np.argmax(np.squeeze(action_probs))\n",
    "\n",
    "    state, _, done, _ = env.step(action)\n",
    "    state = tf.constant(state, dtype=tf.float32)\n",
    "\n",
    "    # Render screen every 10 steps\n",
    "    if i % 10 == 0:\n",
    "      screen = env.render(mode='rgb_array')\n",
    "      images.append(Image.fromarray(screen))\n",
    "\n",
    "    if done:\n",
    "      break\n",
    "\n",
    "  return images\n",
    "\n",
    "\n",
    "# Save GIF image\n",
    "images = render_episode(env, model, max_steps_per_episode)\n",
    "image_file = 'cartpole-v0.gif'\n",
    "# loop=0: loop forever, duration=1: play each frame for 1ms\n",
    "images[0].save(\n",
    "    image_file, save_all=True, append_images=images[1:], loop=0, duration=1)"
   ]
  },
  {
   "cell_type": "code",
   "execution_count": 17,
   "id": "bddf8623-ce9e-4f5e-ad3f-785c4a08b4cf",
   "metadata": {},
   "outputs": [
    {
     "data": {
      "text/plain": [
       "1000"
      ]
     },
     "execution_count": 17,
     "metadata": {},
     "output_type": "execute_result"
    }
   ],
   "source": [
    "max_steps_per_episode"
   ]
  },
  {
   "cell_type": "code",
   "execution_count": 16,
   "id": "6d986450-831f-4243-8c27-df4f5c1e3e9a",
   "metadata": {},
   "outputs": [
    {
     "data": {
      "text/html": [
       "<img src=\"data:image/gif;base64,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\"/>"
      ],
      "text/plain": [
       "<IPython.core.display.HTML object>"
      ]
     },
     "execution_count": 16,
     "metadata": {},
     "output_type": "execute_result"
    }
   ],
   "source": [
    "import tensorflow_docs.vis.embed as embed\n",
    "embed.embed_file(image_file)"
   ]
  },
  {
   "cell_type": "code",
   "execution_count": null,
   "id": "6b8ad66f-5c1d-439c-bbb3-3377f9badbe3",
   "metadata": {},
   "outputs": [],
   "source": []
  }
 ],
 "metadata": {
  "kernelspec": {
   "display_name": "Python 3",
   "language": "python",
   "name": "python3"
  },
  "language_info": {
   "codemirror_mode": {
    "name": "ipython",
    "version": 3
   },
   "file_extension": ".py",
   "mimetype": "text/x-python",
   "name": "python",
   "nbconvert_exporter": "python",
   "pygments_lexer": "ipython3",
   "version": "3.8.10"
  }
 },
 "nbformat": 4,
 "nbformat_minor": 5
}
